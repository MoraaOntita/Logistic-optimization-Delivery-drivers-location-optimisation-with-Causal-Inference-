{
 "cells": [
  {
   "cell_type": "code",
   "execution_count": 4,
   "metadata": {},
   "outputs": [],
   "source": [
    "import pandas as pd"
   ]
  },
  {
   "cell_type": "code",
   "execution_count": 5,
   "metadata": {},
   "outputs": [],
   "source": [
    "df1=pd.read_csv(\"/home/moraa/Documents/10_academy/Week-8/data/driver_locations_during_request.csv\")"
   ]
  },
  {
   "cell_type": "markdown",
   "metadata": {},
   "source": [
    "Summary Statistics"
   ]
  },
  {
   "cell_type": "code",
   "execution_count": 6,
   "metadata": {},
   "outputs": [
    {
     "data": {
      "text/html": [
       "<div>\n",
       "<style scoped>\n",
       "    .dataframe tbody tr th:only-of-type {\n",
       "        vertical-align: middle;\n",
       "    }\n",
       "\n",
       "    .dataframe tbody tr th {\n",
       "        vertical-align: top;\n",
       "    }\n",
       "\n",
       "    .dataframe thead th {\n",
       "        text-align: right;\n",
       "    }\n",
       "</style>\n",
       "<table border=\"1\" class=\"dataframe\">\n",
       "  <thead>\n",
       "    <tr style=\"text-align: right;\">\n",
       "      <th></th>\n",
       "      <th>id</th>\n",
       "      <th>order_id</th>\n",
       "      <th>driver_id</th>\n",
       "      <th>driver_action</th>\n",
       "      <th>lat</th>\n",
       "      <th>lng</th>\n",
       "      <th>created_at</th>\n",
       "      <th>updated_at</th>\n",
       "    </tr>\n",
       "  </thead>\n",
       "  <tbody>\n",
       "    <tr>\n",
       "      <th>0</th>\n",
       "      <td>1</td>\n",
       "      <td>392001</td>\n",
       "      <td>243828</td>\n",
       "      <td>accepted</td>\n",
       "      <td>6.602207</td>\n",
       "      <td>3.270465</td>\n",
       "      <td>NaN</td>\n",
       "      <td>NaN</td>\n",
       "    </tr>\n",
       "    <tr>\n",
       "      <th>1</th>\n",
       "      <td>2</td>\n",
       "      <td>392001</td>\n",
       "      <td>243588</td>\n",
       "      <td>rejected</td>\n",
       "      <td>6.592097</td>\n",
       "      <td>3.287445</td>\n",
       "      <td>NaN</td>\n",
       "      <td>NaN</td>\n",
       "    </tr>\n",
       "    <tr>\n",
       "      <th>2</th>\n",
       "      <td>3</td>\n",
       "      <td>392001</td>\n",
       "      <td>243830</td>\n",
       "      <td>rejected</td>\n",
       "      <td>6.596133</td>\n",
       "      <td>3.281784</td>\n",
       "      <td>NaN</td>\n",
       "      <td>NaN</td>\n",
       "    </tr>\n",
       "    <tr>\n",
       "      <th>3</th>\n",
       "      <td>4</td>\n",
       "      <td>392001</td>\n",
       "      <td>243539</td>\n",
       "      <td>rejected</td>\n",
       "      <td>6.596142</td>\n",
       "      <td>3.280526</td>\n",
       "      <td>NaN</td>\n",
       "      <td>NaN</td>\n",
       "    </tr>\n",
       "    <tr>\n",
       "      <th>4</th>\n",
       "      <td>5</td>\n",
       "      <td>392001</td>\n",
       "      <td>171653</td>\n",
       "      <td>rejected</td>\n",
       "      <td>6.609232</td>\n",
       "      <td>3.288800</td>\n",
       "      <td>NaN</td>\n",
       "      <td>NaN</td>\n",
       "    </tr>\n",
       "  </tbody>\n",
       "</table>\n",
       "</div>"
      ],
      "text/plain": [
       "   id  order_id  driver_id driver_action       lat       lng  created_at  \\\n",
       "0   1    392001     243828      accepted  6.602207  3.270465         NaN   \n",
       "1   2    392001     243588      rejected  6.592097  3.287445         NaN   \n",
       "2   3    392001     243830      rejected  6.596133  3.281784         NaN   \n",
       "3   4    392001     243539      rejected  6.596142  3.280526         NaN   \n",
       "4   5    392001     171653      rejected  6.609232  3.288800         NaN   \n",
       "\n",
       "   updated_at  \n",
       "0         NaN  \n",
       "1         NaN  \n",
       "2         NaN  \n",
       "3         NaN  \n",
       "4         NaN  "
      ]
     },
     "execution_count": 6,
     "metadata": {},
     "output_type": "execute_result"
    }
   ],
   "source": [
    "df1.head()"
   ]
  },
  {
   "cell_type": "code",
   "execution_count": 7,
   "metadata": {},
   "outputs": [
    {
     "data": {
      "text/plain": [
       "id                 int64\n",
       "order_id           int64\n",
       "driver_id          int64\n",
       "driver_action     object\n",
       "lat              float64\n",
       "lng              float64\n",
       "created_at       float64\n",
       "updated_at       float64\n",
       "dtype: object"
      ]
     },
     "execution_count": 7,
     "metadata": {},
     "output_type": "execute_result"
    }
   ],
   "source": [
    "df1.dtypes"
   ]
  },
  {
   "cell_type": "code",
   "execution_count": 8,
   "metadata": {},
   "outputs": [
    {
     "data": {
      "text/plain": [
       "(1557740, 8)"
      ]
     },
     "execution_count": 8,
     "metadata": {},
     "output_type": "execute_result"
    }
   ],
   "source": [
    "df1.shape"
   ]
  },
  {
   "cell_type": "code",
   "execution_count": 9,
   "metadata": {},
   "outputs": [],
   "source": [
    "df2=pd.read_csv(\"/home/moraa/Documents/10_academy/Week-8/data/nb.csv\")"
   ]
  },
  {
   "cell_type": "code",
   "execution_count": 10,
   "metadata": {},
   "outputs": [
    {
     "data": {
      "text/html": [
       "<div>\n",
       "<style scoped>\n",
       "    .dataframe tbody tr th:only-of-type {\n",
       "        vertical-align: middle;\n",
       "    }\n",
       "\n",
       "    .dataframe tbody tr th {\n",
       "        vertical-align: top;\n",
       "    }\n",
       "\n",
       "    .dataframe thead th {\n",
       "        text-align: right;\n",
       "    }\n",
       "</style>\n",
       "<table border=\"1\" class=\"dataframe\">\n",
       "  <thead>\n",
       "    <tr style=\"text-align: right;\">\n",
       "      <th></th>\n",
       "      <th>Trip ID</th>\n",
       "      <th>Trip Origin</th>\n",
       "      <th>Trip Destination</th>\n",
       "      <th>Trip Start Time</th>\n",
       "      <th>Trip End Time</th>\n",
       "    </tr>\n",
       "  </thead>\n",
       "  <tbody>\n",
       "    <tr>\n",
       "      <th>0</th>\n",
       "      <td>391996</td>\n",
       "      <td>6.508813001668548,3.37740316890347</td>\n",
       "      <td>6.650969799999999,3.3450307</td>\n",
       "      <td>2021-07-01 07:28:04</td>\n",
       "      <td>2021-07-01 07:29:37</td>\n",
       "    </tr>\n",
       "    <tr>\n",
       "      <th>1</th>\n",
       "      <td>391997</td>\n",
       "      <td>6.4316714,3.4555375</td>\n",
       "      <td>6.4280814653326,3.4721885847586</td>\n",
       "      <td>2021-07-01 06:38:04</td>\n",
       "      <td>2021-07-01 07:07:28</td>\n",
       "    </tr>\n",
       "    <tr>\n",
       "      <th>2</th>\n",
       "      <td>391998</td>\n",
       "      <td>6.631679399999999,3.3388976</td>\n",
       "      <td>6.508324099999999,3.3590397</td>\n",
       "      <td>2021-07-01 06:21:02</td>\n",
       "      <td>2021-07-01 07:02:23</td>\n",
       "    </tr>\n",
       "    <tr>\n",
       "      <th>3</th>\n",
       "      <td>391999</td>\n",
       "      <td>6.572757200000001,3.3677082</td>\n",
       "      <td>6.584881099999999,3.3614073</td>\n",
       "      <td>2021-07-01 07:16:07</td>\n",
       "      <td>2021-07-01 07:29:42</td>\n",
       "    </tr>\n",
       "    <tr>\n",
       "      <th>4</th>\n",
       "      <td>392001</td>\n",
       "      <td>6.6010417,3.2766339</td>\n",
       "      <td>6.4501069,3.3916154</td>\n",
       "      <td>2021-07-01 09:30:59</td>\n",
       "      <td>2021-07-01 09:34:36</td>\n",
       "    </tr>\n",
       "  </tbody>\n",
       "</table>\n",
       "</div>"
      ],
      "text/plain": [
       "   Trip ID                         Trip Origin  \\\n",
       "0   391996  6.508813001668548,3.37740316890347   \n",
       "1   391997                 6.4316714,3.4555375   \n",
       "2   391998         6.631679399999999,3.3388976   \n",
       "3   391999         6.572757200000001,3.3677082   \n",
       "4   392001                 6.6010417,3.2766339   \n",
       "\n",
       "                  Trip Destination      Trip Start Time        Trip End Time  \n",
       "0      6.650969799999999,3.3450307  2021-07-01 07:28:04  2021-07-01 07:29:37  \n",
       "1  6.4280814653326,3.4721885847586  2021-07-01 06:38:04  2021-07-01 07:07:28  \n",
       "2      6.508324099999999,3.3590397  2021-07-01 06:21:02  2021-07-01 07:02:23  \n",
       "3      6.584881099999999,3.3614073  2021-07-01 07:16:07  2021-07-01 07:29:42  \n",
       "4              6.4501069,3.3916154  2021-07-01 09:30:59  2021-07-01 09:34:36  "
      ]
     },
     "execution_count": 10,
     "metadata": {},
     "output_type": "execute_result"
    }
   ],
   "source": [
    "df2.head()"
   ]
  },
  {
   "cell_type": "code",
   "execution_count": 11,
   "metadata": {},
   "outputs": [
    {
     "data": {
      "text/plain": [
       "Trip ID              int64\n",
       "Trip Origin         object\n",
       "Trip Destination    object\n",
       "Trip Start Time     object\n",
       "Trip End Time       object\n",
       "dtype: object"
      ]
     },
     "execution_count": 11,
     "metadata": {},
     "output_type": "execute_result"
    }
   ],
   "source": [
    "df2.dtypes"
   ]
  },
  {
   "cell_type": "code",
   "execution_count": 12,
   "metadata": {},
   "outputs": [
    {
     "data": {
      "text/plain": [
       "(1557740, 8)"
      ]
     },
     "execution_count": 12,
     "metadata": {},
     "output_type": "execute_result"
    }
   ],
   "source": [
    "df1.shape"
   ]
  },
  {
   "cell_type": "code",
   "execution_count": 13,
   "metadata": {},
   "outputs": [
    {
     "data": {
      "text/html": [
       "<div>\n",
       "<style scoped>\n",
       "    .dataframe tbody tr th:only-of-type {\n",
       "        vertical-align: middle;\n",
       "    }\n",
       "\n",
       "    .dataframe tbody tr th {\n",
       "        vertical-align: top;\n",
       "    }\n",
       "\n",
       "    .dataframe thead th {\n",
       "        text-align: right;\n",
       "    }\n",
       "</style>\n",
       "<table border=\"1\" class=\"dataframe\">\n",
       "  <thead>\n",
       "    <tr style=\"text-align: right;\">\n",
       "      <th></th>\n",
       "      <th>id</th>\n",
       "      <th>order_id</th>\n",
       "      <th>driver_id</th>\n",
       "      <th>lat</th>\n",
       "      <th>lng</th>\n",
       "      <th>created_at</th>\n",
       "      <th>updated_at</th>\n",
       "    </tr>\n",
       "  </thead>\n",
       "  <tbody>\n",
       "    <tr>\n",
       "      <th>count</th>\n",
       "      <td>1.557740e+06</td>\n",
       "      <td>1.557740e+06</td>\n",
       "      <td>1.557740e+06</td>\n",
       "      <td>1.557740e+06</td>\n",
       "      <td>1.557740e+06</td>\n",
       "      <td>0.0</td>\n",
       "      <td>0.0</td>\n",
       "    </tr>\n",
       "    <tr>\n",
       "      <th>mean</th>\n",
       "      <td>7.788705e+05</td>\n",
       "      <td>4.191833e+05</td>\n",
       "      <td>2.341505e+05</td>\n",
       "      <td>6.536031e+00</td>\n",
       "      <td>3.378877e+00</td>\n",
       "      <td>NaN</td>\n",
       "      <td>NaN</td>\n",
       "    </tr>\n",
       "    <tr>\n",
       "      <th>std</th>\n",
       "      <td>4.496809e+05</td>\n",
       "      <td>1.444531e+04</td>\n",
       "      <td>2.270475e+04</td>\n",
       "      <td>5.998150e-02</td>\n",
       "      <td>5.333432e-02</td>\n",
       "      <td>NaN</td>\n",
       "      <td>NaN</td>\n",
       "    </tr>\n",
       "    <tr>\n",
       "      <th>min</th>\n",
       "      <td>1.000000e+00</td>\n",
       "      <td>3.920010e+05</td>\n",
       "      <td>1.219810e+05</td>\n",
       "      <td>6.409333e+00</td>\n",
       "      <td>3.076561e+00</td>\n",
       "      <td>NaN</td>\n",
       "      <td>NaN</td>\n",
       "    </tr>\n",
       "    <tr>\n",
       "      <th>25%</th>\n",
       "      <td>3.894358e+05</td>\n",
       "      <td>4.067650e+05</td>\n",
       "      <td>2.429970e+05</td>\n",
       "      <td>6.498694e+00</td>\n",
       "      <td>3.348810e+00</td>\n",
       "      <td>NaN</td>\n",
       "      <td>NaN</td>\n",
       "    </tr>\n",
       "    <tr>\n",
       "      <th>50%</th>\n",
       "      <td>7.788705e+05</td>\n",
       "      <td>4.216870e+05</td>\n",
       "      <td>2.435890e+05</td>\n",
       "      <td>6.544247e+00</td>\n",
       "      <td>3.363504e+00</td>\n",
       "      <td>NaN</td>\n",
       "      <td>NaN</td>\n",
       "    </tr>\n",
       "    <tr>\n",
       "      <th>75%</th>\n",
       "      <td>1.168305e+06</td>\n",
       "      <td>4.293130e+05</td>\n",
       "      <td>2.440560e+05</td>\n",
       "      <td>6.593276e+00</td>\n",
       "      <td>3.385177e+00</td>\n",
       "      <td>NaN</td>\n",
       "      <td>NaN</td>\n",
       "    </tr>\n",
       "    <tr>\n",
       "      <th>max</th>\n",
       "      <td>1.557740e+06</td>\n",
       "      <td>5.179480e+05</td>\n",
       "      <td>2.478770e+05</td>\n",
       "      <td>7.702536e+00</td>\n",
       "      <td>8.515414e+00</td>\n",
       "      <td>NaN</td>\n",
       "      <td>NaN</td>\n",
       "    </tr>\n",
       "  </tbody>\n",
       "</table>\n",
       "</div>"
      ],
      "text/plain": [
       "                 id      order_id     driver_id           lat           lng  \\\n",
       "count  1.557740e+06  1.557740e+06  1.557740e+06  1.557740e+06  1.557740e+06   \n",
       "mean   7.788705e+05  4.191833e+05  2.341505e+05  6.536031e+00  3.378877e+00   \n",
       "std    4.496809e+05  1.444531e+04  2.270475e+04  5.998150e-02  5.333432e-02   \n",
       "min    1.000000e+00  3.920010e+05  1.219810e+05  6.409333e+00  3.076561e+00   \n",
       "25%    3.894358e+05  4.067650e+05  2.429970e+05  6.498694e+00  3.348810e+00   \n",
       "50%    7.788705e+05  4.216870e+05  2.435890e+05  6.544247e+00  3.363504e+00   \n",
       "75%    1.168305e+06  4.293130e+05  2.440560e+05  6.593276e+00  3.385177e+00   \n",
       "max    1.557740e+06  5.179480e+05  2.478770e+05  7.702536e+00  8.515414e+00   \n",
       "\n",
       "       created_at  updated_at  \n",
       "count         0.0         0.0  \n",
       "mean          NaN         NaN  \n",
       "std           NaN         NaN  \n",
       "min           NaN         NaN  \n",
       "25%           NaN         NaN  \n",
       "50%           NaN         NaN  \n",
       "75%           NaN         NaN  \n",
       "max           NaN         NaN  "
      ]
     },
     "execution_count": 13,
     "metadata": {},
     "output_type": "execute_result"
    }
   ],
   "source": [
    "df1.describe()"
   ]
  },
  {
   "cell_type": "code",
   "execution_count": 14,
   "metadata": {},
   "outputs": [
    {
     "data": {
      "text/html": [
       "<div>\n",
       "<style scoped>\n",
       "    .dataframe tbody tr th:only-of-type {\n",
       "        vertical-align: middle;\n",
       "    }\n",
       "\n",
       "    .dataframe tbody tr th {\n",
       "        vertical-align: top;\n",
       "    }\n",
       "\n",
       "    .dataframe thead th {\n",
       "        text-align: right;\n",
       "    }\n",
       "</style>\n",
       "<table border=\"1\" class=\"dataframe\">\n",
       "  <thead>\n",
       "    <tr style=\"text-align: right;\">\n",
       "      <th></th>\n",
       "      <th>Trip ID</th>\n",
       "    </tr>\n",
       "  </thead>\n",
       "  <tbody>\n",
       "    <tr>\n",
       "      <th>count</th>\n",
       "      <td>5.360200e+05</td>\n",
       "    </tr>\n",
       "    <tr>\n",
       "      <th>mean</th>\n",
       "      <td>9.910221e+05</td>\n",
       "    </tr>\n",
       "    <tr>\n",
       "      <th>std</th>\n",
       "      <td>3.456364e+05</td>\n",
       "    </tr>\n",
       "    <tr>\n",
       "      <th>min</th>\n",
       "      <td>3.919960e+05</td>\n",
       "    </tr>\n",
       "    <tr>\n",
       "      <th>25%</th>\n",
       "      <td>6.935610e+05</td>\n",
       "    </tr>\n",
       "    <tr>\n",
       "      <th>50%</th>\n",
       "      <td>9.910085e+05</td>\n",
       "    </tr>\n",
       "    <tr>\n",
       "      <th>75%</th>\n",
       "      <td>1.281570e+06</td>\n",
       "    </tr>\n",
       "    <tr>\n",
       "      <th>max</th>\n",
       "      <td>1.637709e+06</td>\n",
       "    </tr>\n",
       "  </tbody>\n",
       "</table>\n",
       "</div>"
      ],
      "text/plain": [
       "            Trip ID\n",
       "count  5.360200e+05\n",
       "mean   9.910221e+05\n",
       "std    3.456364e+05\n",
       "min    3.919960e+05\n",
       "25%    6.935610e+05\n",
       "50%    9.910085e+05\n",
       "75%    1.281570e+06\n",
       "max    1.637709e+06"
      ]
     },
     "execution_count": 14,
     "metadata": {},
     "output_type": "execute_result"
    }
   ],
   "source": [
    "df2.describe()"
   ]
  },
  {
   "cell_type": "code",
   "execution_count": 15,
   "metadata": {},
   "outputs": [
    {
     "name": "stdout",
     "output_type": "stream",
     "text": [
      "Percentage of missing values for each column:\n",
      "id                 0.0\n",
      "order_id           0.0\n",
      "driver_id          0.0\n",
      "driver_action      0.0\n",
      "lat                0.0\n",
      "lng                0.0\n",
      "created_at       100.0\n",
      "updated_at       100.0\n",
      "dtype: float64\n"
     ]
    }
   ],
   "source": [
    "# Count missing values in each column\n",
    "missing_values_count = df1.isnull().sum()\n",
    "\n",
    "# Calculate the total number of rows in the DataFrame\n",
    "total_rows = len(df1)\n",
    "\n",
    "# Calculate the percentage of missing values for each column\n",
    "percentage_missing_values = (missing_values_count / total_rows) * 100\n",
    "\n",
    "# Display the percentage of missing values for each column\n",
    "print(\"Percentage of missing values for each column:\")\n",
    "print(percentage_missing_values)"
   ]
  },
  {
   "cell_type": "code",
   "execution_count": 16,
   "metadata": {},
   "outputs": [
    {
     "name": "stdout",
     "output_type": "stream",
     "text": [
      "Percentage of missing values for each column:\n",
      "Trip ID             0.000000\n",
      "Trip Origin         0.000000\n",
      "Trip Destination    0.000000\n",
      "Trip Start Time     0.308011\n",
      "Trip End Time       0.000187\n",
      "dtype: float64\n"
     ]
    }
   ],
   "source": [
    "# Count missing values in each column\n",
    "missing_values_count = df2.isnull().sum()\n",
    "\n",
    "# Calculate the total number of rows in the DataFrame\n",
    "total_rows = len(df2)\n",
    "\n",
    "# Calculate the percentage of missing values for each column\n",
    "percentage_missing_values = (missing_values_count / total_rows) * 100\n",
    "\n",
    "# Display the percentage of missing values for each column\n",
    "print(\"Percentage of missing values for each column:\")\n",
    "print(percentage_missing_values)"
   ]
  },
  {
   "cell_type": "code",
   "execution_count": 17,
   "metadata": {},
   "outputs": [
    {
     "data": {
      "text/html": [
       "<div>\n",
       "<style scoped>\n",
       "    .dataframe tbody tr th:only-of-type {\n",
       "        vertical-align: middle;\n",
       "    }\n",
       "\n",
       "    .dataframe tbody tr th {\n",
       "        vertical-align: top;\n",
       "    }\n",
       "\n",
       "    .dataframe thead th {\n",
       "        text-align: right;\n",
       "    }\n",
       "</style>\n",
       "<table border=\"1\" class=\"dataframe\">\n",
       "  <thead>\n",
       "    <tr style=\"text-align: right;\">\n",
       "      <th></th>\n",
       "      <th>id</th>\n",
       "      <th>order_id</th>\n",
       "      <th>driver_id</th>\n",
       "      <th>driver_action</th>\n",
       "      <th>lat</th>\n",
       "      <th>lng</th>\n",
       "      <th>created_at</th>\n",
       "      <th>updated_at</th>\n",
       "    </tr>\n",
       "  </thead>\n",
       "  <tbody>\n",
       "    <tr>\n",
       "      <th>0</th>\n",
       "      <td>1</td>\n",
       "      <td>392001</td>\n",
       "      <td>243828</td>\n",
       "      <td>accepted</td>\n",
       "      <td>6.602207</td>\n",
       "      <td>3.270465</td>\n",
       "      <td>NaN</td>\n",
       "      <td>NaN</td>\n",
       "    </tr>\n",
       "    <tr>\n",
       "      <th>1</th>\n",
       "      <td>2</td>\n",
       "      <td>392001</td>\n",
       "      <td>243588</td>\n",
       "      <td>rejected</td>\n",
       "      <td>6.592097</td>\n",
       "      <td>3.287445</td>\n",
       "      <td>NaN</td>\n",
       "      <td>NaN</td>\n",
       "    </tr>\n",
       "    <tr>\n",
       "      <th>2</th>\n",
       "      <td>3</td>\n",
       "      <td>392001</td>\n",
       "      <td>243830</td>\n",
       "      <td>rejected</td>\n",
       "      <td>6.596133</td>\n",
       "      <td>3.281784</td>\n",
       "      <td>NaN</td>\n",
       "      <td>NaN</td>\n",
       "    </tr>\n",
       "    <tr>\n",
       "      <th>3</th>\n",
       "      <td>4</td>\n",
       "      <td>392001</td>\n",
       "      <td>243539</td>\n",
       "      <td>rejected</td>\n",
       "      <td>6.596142</td>\n",
       "      <td>3.280526</td>\n",
       "      <td>NaN</td>\n",
       "      <td>NaN</td>\n",
       "    </tr>\n",
       "    <tr>\n",
       "      <th>4</th>\n",
       "      <td>5</td>\n",
       "      <td>392001</td>\n",
       "      <td>171653</td>\n",
       "      <td>rejected</td>\n",
       "      <td>6.609232</td>\n",
       "      <td>3.288800</td>\n",
       "      <td>NaN</td>\n",
       "      <td>NaN</td>\n",
       "    </tr>\n",
       "  </tbody>\n",
       "</table>\n",
       "</div>"
      ],
      "text/plain": [
       "   id  order_id  driver_id driver_action       lat       lng  created_at  \\\n",
       "0   1    392001     243828      accepted  6.602207  3.270465         NaN   \n",
       "1   2    392001     243588      rejected  6.592097  3.287445         NaN   \n",
       "2   3    392001     243830      rejected  6.596133  3.281784         NaN   \n",
       "3   4    392001     243539      rejected  6.596142  3.280526         NaN   \n",
       "4   5    392001     171653      rejected  6.609232  3.288800         NaN   \n",
       "\n",
       "   updated_at  \n",
       "0         NaN  \n",
       "1         NaN  \n",
       "2         NaN  \n",
       "3         NaN  \n",
       "4         NaN  "
      ]
     },
     "execution_count": 17,
     "metadata": {},
     "output_type": "execute_result"
    }
   ],
   "source": [
    "df1.head()"
   ]
  },
  {
   "cell_type": "code",
   "execution_count": 18,
   "metadata": {},
   "outputs": [
    {
     "data": {
      "text/plain": [
       "array([392001, 392005, 392009, ..., 497721, 510268, 517948])"
      ]
     },
     "execution_count": 18,
     "metadata": {},
     "output_type": "execute_result"
    }
   ],
   "source": [
    "df1['order_id'].unique()"
   ]
  },
  {
   "cell_type": "code",
   "execution_count": 19,
   "metadata": {},
   "outputs": [
    {
     "data": {
      "text/html": [
       "<div>\n",
       "<style scoped>\n",
       "    .dataframe tbody tr th:only-of-type {\n",
       "        vertical-align: middle;\n",
       "    }\n",
       "\n",
       "    .dataframe tbody tr th {\n",
       "        vertical-align: top;\n",
       "    }\n",
       "\n",
       "    .dataframe thead th {\n",
       "        text-align: right;\n",
       "    }\n",
       "</style>\n",
       "<table border=\"1\" class=\"dataframe\">\n",
       "  <thead>\n",
       "    <tr style=\"text-align: right;\">\n",
       "      <th></th>\n",
       "      <th>Trip ID</th>\n",
       "      <th>Trip Origin</th>\n",
       "      <th>Trip Destination</th>\n",
       "      <th>Trip Start Time</th>\n",
       "      <th>Trip End Time</th>\n",
       "    </tr>\n",
       "  </thead>\n",
       "  <tbody>\n",
       "    <tr>\n",
       "      <th>0</th>\n",
       "      <td>391996</td>\n",
       "      <td>6.508813001668548,3.37740316890347</td>\n",
       "      <td>6.650969799999999,3.3450307</td>\n",
       "      <td>2021-07-01 07:28:04</td>\n",
       "      <td>2021-07-01 07:29:37</td>\n",
       "    </tr>\n",
       "    <tr>\n",
       "      <th>1</th>\n",
       "      <td>391997</td>\n",
       "      <td>6.4316714,3.4555375</td>\n",
       "      <td>6.4280814653326,3.4721885847586</td>\n",
       "      <td>2021-07-01 06:38:04</td>\n",
       "      <td>2021-07-01 07:07:28</td>\n",
       "    </tr>\n",
       "    <tr>\n",
       "      <th>2</th>\n",
       "      <td>391998</td>\n",
       "      <td>6.631679399999999,3.3388976</td>\n",
       "      <td>6.508324099999999,3.3590397</td>\n",
       "      <td>2021-07-01 06:21:02</td>\n",
       "      <td>2021-07-01 07:02:23</td>\n",
       "    </tr>\n",
       "    <tr>\n",
       "      <th>3</th>\n",
       "      <td>391999</td>\n",
       "      <td>6.572757200000001,3.3677082</td>\n",
       "      <td>6.584881099999999,3.3614073</td>\n",
       "      <td>2021-07-01 07:16:07</td>\n",
       "      <td>2021-07-01 07:29:42</td>\n",
       "    </tr>\n",
       "    <tr>\n",
       "      <th>4</th>\n",
       "      <td>392001</td>\n",
       "      <td>6.6010417,3.2766339</td>\n",
       "      <td>6.4501069,3.3916154</td>\n",
       "      <td>2021-07-01 09:30:59</td>\n",
       "      <td>2021-07-01 09:34:36</td>\n",
       "    </tr>\n",
       "  </tbody>\n",
       "</table>\n",
       "</div>"
      ],
      "text/plain": [
       "   Trip ID                         Trip Origin  \\\n",
       "0   391996  6.508813001668548,3.37740316890347   \n",
       "1   391997                 6.4316714,3.4555375   \n",
       "2   391998         6.631679399999999,3.3388976   \n",
       "3   391999         6.572757200000001,3.3677082   \n",
       "4   392001                 6.6010417,3.2766339   \n",
       "\n",
       "                  Trip Destination      Trip Start Time        Trip End Time  \n",
       "0      6.650969799999999,3.3450307  2021-07-01 07:28:04  2021-07-01 07:29:37  \n",
       "1  6.4280814653326,3.4721885847586  2021-07-01 06:38:04  2021-07-01 07:07:28  \n",
       "2      6.508324099999999,3.3590397  2021-07-01 06:21:02  2021-07-01 07:02:23  \n",
       "3      6.584881099999999,3.3614073  2021-07-01 07:16:07  2021-07-01 07:29:42  \n",
       "4              6.4501069,3.3916154  2021-07-01 09:30:59  2021-07-01 09:34:36  "
      ]
     },
     "execution_count": 19,
     "metadata": {},
     "output_type": "execute_result"
    }
   ],
   "source": [
    "df2.head()"
   ]
  },
  {
   "cell_type": "code",
   "execution_count": 20,
   "metadata": {},
   "outputs": [
    {
     "name": "stdout",
     "output_type": "stream",
     "text": [
      "Frequency of order_id values:\n",
      "401129    4122\n",
      "401849    3360\n",
      "415800    2922\n",
      "418106    2617\n",
      "405195    2129\n",
      "          ... \n",
      "427525       1\n",
      "427528       1\n",
      "427537       1\n",
      "427549       1\n",
      "418710       1\n",
      "Name: order_id, Length: 26492, dtype: int64\n",
      "First few rows of df2:\n",
      "   Trip ID                         Trip Origin  \\\n",
      "0   391996  6.508813001668548,3.37740316890347   \n",
      "1   391997                 6.4316714,3.4555375   \n",
      "2   391998         6.631679399999999,3.3388976   \n",
      "3   391999         6.572757200000001,3.3677082   \n",
      "4   392001                 6.6010417,3.2766339   \n",
      "\n",
      "                  Trip Destination      Trip Start Time        Trip End Time  \n",
      "0      6.650969799999999,3.3450307  2021-07-01 07:28:04  2021-07-01 07:29:37  \n",
      "1  6.4280814653326,3.4721885847586  2021-07-01 06:38:04  2021-07-01 07:07:28  \n",
      "2      6.508324099999999,3.3590397  2021-07-01 06:21:02  2021-07-01 07:02:23  \n",
      "3      6.584881099999999,3.3614073  2021-07-01 07:16:07  2021-07-01 07:29:42  \n",
      "4              6.4501069,3.3916154  2021-07-01 09:30:59  2021-07-01 09:34:36  \n"
     ]
    }
   ],
   "source": [
    "# Group orders by order_id in df1 and count the number of occurrences of each order_id\n",
    "order_id_counts = df1['order_id'].value_counts()\n",
    "\n",
    "# Print the frequency of order_id values\n",
    "print(\"Frequency of order_id values:\")\n",
    "print(order_id_counts)\n",
    "\n",
    "# Check the first few rows of df2 to inspect Trip ID values\n",
    "print(\"First few rows of df2:\")\n",
    "print(df2.head())\n"
   ]
  },
  {
   "cell_type": "markdown",
   "metadata": {},
   "source": [
    "Data Preprocessing"
   ]
  },
  {
   "cell_type": "markdown",
   "metadata": {},
   "source": [
    "Handling Missing Values"
   ]
  },
  {
   "cell_type": "code",
   "execution_count": 21,
   "metadata": {},
   "outputs": [
    {
     "name": "stdout",
     "output_type": "stream",
     "text": [
      "              id  order_id  driver_id driver_action       lat       lng\n",
      "0              1    392001     243828      accepted  6.602207  3.270465\n",
      "1              2    392001     243588      rejected  6.592097  3.287445\n",
      "2              3    392001     243830      rejected  6.596133  3.281784\n",
      "3              4    392001     243539      rejected  6.596142  3.280526\n",
      "4              5    392001     171653      rejected  6.609232  3.288800\n",
      "...          ...       ...        ...           ...       ...       ...\n",
      "1557735  1557736    517948     243774      rejected  6.469036  3.566877\n",
      "1557736  1557737    517948     245447      rejected  6.425431  3.527358\n",
      "1557737  1557738    517948     239866      rejected  6.440013  3.525378\n",
      "1557738  1557739    517948     243774      rejected  6.469036  3.566877\n",
      "1557739  1557740    517948     244170      rejected  6.469390  3.572079\n",
      "\n",
      "[1557740 rows x 6 columns]\n"
     ]
    }
   ],
   "source": [
    "# Drop the specified columns\n",
    "df1.drop(columns=['created_at', 'updated_at'], inplace=True)\n",
    "\n",
    "# Display the DataFrame after dropping the columns\n",
    "print(df1)"
   ]
  },
  {
   "cell_type": "code",
   "execution_count": 22,
   "metadata": {},
   "outputs": [
    {
     "data": {
      "text/plain": [
       "Trip ID                0\n",
       "Trip Origin            0\n",
       "Trip Destination       0\n",
       "Trip Start Time     1651\n",
       "Trip End Time          1\n",
       "dtype: int64"
      ]
     },
     "execution_count": 22,
     "metadata": {},
     "output_type": "execute_result"
    }
   ],
   "source": [
    "df2.isnull().sum()"
   ]
  },
  {
   "cell_type": "code",
   "execution_count": 23,
   "metadata": {},
   "outputs": [
    {
     "name": "stdout",
     "output_type": "stream",
     "text": [
      "        Trip ID                         Trip Origin  \\\n",
      "0        391996  6.508813001668548,3.37740316890347   \n",
      "1        391997                 6.4316714,3.4555375   \n",
      "2        391998         6.631679399999999,3.3388976   \n",
      "3        391999         6.572757200000001,3.3677082   \n",
      "4        392001                 6.6010417,3.2766339   \n",
      "...         ...                                 ...   \n",
      "536015  1637696         6.448218499999999,3.4772075   \n",
      "536016  1637702         6.442320899999999,3.4736868   \n",
      "536017  1637704                  6.4281982,3.492248   \n",
      "536018  1637705                 6.5869296,3.3632966   \n",
      "536019  1637709         6.647209999999999,3.4851489   \n",
      "\n",
      "                            Trip Destination      Trip Start Time  \\\n",
      "0                6.650969799999999,3.3450307  2021-07-01 07:28:04   \n",
      "1            6.4280814653326,3.4721885847586  2021-07-01 06:38:04   \n",
      "2                6.508324099999999,3.3590397  2021-07-01 06:21:02   \n",
      "3                6.584881099999999,3.3614073  2021-07-01 07:16:07   \n",
      "4                        6.4501069,3.3916154  2021-07-01 09:30:59   \n",
      "...                                      ...                  ...   \n",
      "536015   6.437787399999999,3.481670199999999  2021-12-30 20:35:06   \n",
      "536016  6.436589333407897,3.5559738188407835  2021-12-30 20:48:13   \n",
      "536017           6.448088500000001,3.4775747  2021-12-30 20:51:45   \n",
      "536018           6.637906899999999,3.3339515  2021-12-30 20:48:50   \n",
      "536019   6.454915198823159,3.555839938365194  2021-12-30 20:55:38   \n",
      "\n",
      "              Trip End Time  \n",
      "0       2021-07-01 07:29:37  \n",
      "1       2021-07-01 07:07:28  \n",
      "2       2021-07-01 07:02:23  \n",
      "3       2021-07-01 07:29:42  \n",
      "4       2021-07-01 09:34:36  \n",
      "...                     ...  \n",
      "536015  2021-12-30 21:02:59  \n",
      "536016  2021-12-30 21:43:49  \n",
      "536017  2021-12-30 21:41:32  \n",
      "536018  2021-12-30 21:08:28  \n",
      "536019  2021-12-30 22:25:00  \n",
      "\n",
      "[536020 rows x 5 columns]\n"
     ]
    }
   ],
   "source": [
    "import pandas as pd\n",
    "\n",
    "# Assuming df2 is your DataFrame\n",
    "# Impute missing values in Trip Start Time and Trip End Time with mode\n",
    "df2 = df2.copy()\n",
    "df2['Trip Start Time'] = df2['Trip Start Time'].fillna(df2['Trip Start Time'].mode()[0])\n",
    "df2['Trip End Time'] = df2['Trip End Time'].fillna(df2['Trip End Time'].mode()[0])\n",
    "\n",
    "# Display the DataFrame after imputation\n",
    "print(df2)\n"
   ]
  },
  {
   "cell_type": "markdown",
   "metadata": {},
   "source": [
    "Data Transformations"
   ]
  },
  {
   "cell_type": "code",
   "execution_count": 30,
   "metadata": {},
   "outputs": [],
   "source": [
    "# Parse Trip Origin and Trip Destination Convert Trip Start Time and Trip End Time: Convert these columns to datetime objects.\n",
    "\n",
    "df2[['origin_lat', 'origin_lng']] = df2['Trip Origin'].str.split(',', expand=True).astype(float)\n",
    "df2[['dest_lat', 'dest_lng']] = df2['Trip Destination'].str.split(',', expand=True).astype(float)\n",
    "df2['Trip Start Time'] = pd.to_datetime(df2['Trip Start Time'])\n",
    "df2['Trip End Time'] = pd.to_datetime(df2['Trip End Time'])\n"
   ]
  },
  {
   "cell_type": "markdown",
   "metadata": {},
   "source": [
    "## Analysis"
   ]
  },
  {
   "cell_type": "markdown",
   "metadata": {},
   "source": [
    "Numerical Values"
   ]
  },
  {
   "cell_type": "code",
   "execution_count": 32,
   "metadata": {},
   "outputs": [
    {
     "data": {
      "image/png": "[encoded data removed]",
      "text/plain": [
       "<Figure size 1200x600 with 1 Axes>"
      ]
     },
     "metadata": {},
     "output_type": "display_data"
    },
    {
     "data": {
      "image/png": "[encoded data removed]",
      "text/plain": [
       "<Figure size 1200x600 with 1 Axes>"
      ]
     },
     "metadata": {},
     "output_type": "display_data"
    },
    {
     "data": {
      "image/png": "[encoded data removed]",
      "text/plain": [
       "<Figure size 1200x600 with 1 Axes>"
      ]
     },
     "metadata": {},
     "output_type": "display_data"
    },
    {
     "data": {
      "image/png": "[encoded data removed]",
      "text/plain": [
       "<Figure size 1200x600 with 1 Axes>"
      ]
     },
     "metadata": {},
     "output_type": "display_data"
    }
   ],
   "source": [
    "import matplotlib.pyplot as plt\n",
    "import seaborn as sns\n",
    "\n",
    "# Histogram for lat\n",
    "plt.figure(figsize=(12, 6))\n",
    "sns.histplot(df1['lat'], kde=True)\n",
    "plt.title('Distribution of Latitude')\n",
    "plt.xlabel('Latitude')\n",
    "plt.ylabel('Frequency')\n",
    "plt.show()\n",
    "\n",
    "# Histogram for lng\n",
    "plt.figure(figsize=(12, 6))\n",
    "sns.histplot(df1['lng'], kde=True)\n",
    "plt.title('Distribution of Longitude')\n",
    "plt.xlabel('Longitude')\n",
    "plt.ylabel('Frequency')\n",
    "plt.show()\n",
    "\n",
    "# Boxplot for lat\n",
    "plt.figure(figsize=(12, 6))\n",
    "sns.boxplot(x=df1['lat'])\n",
    "plt.title('Box Plot of Latitude')\n",
    "plt.show()\n",
    "\n",
    "# Boxplot for lng\n",
    "plt.figure(figsize=(12, 6))\n",
    "sns.boxplot(x=df1['lng'])\n",
    "plt.title('Box Plot of Longitude')\n",
    "plt.show()\n"
   ]
  },
  {
   "cell_type": "code",
   "execution_count": 34,
   "metadata": {},
   "outputs": [
    {
     "data": {
      "image/png": "[encoded data removed]",
      "text/plain": [
       "<Figure size 1200x600 with 1 Axes>"
      ]
     },
     "metadata": {},
     "output_type": "display_data"
    },
    {
     "data": {
      "image/png": "[encoded data removed]",
      "text/plain": [
       "<Figure size 1200x600 with 1 Axes>"
      ]
     },
     "metadata": {},
     "output_type": "display_data"
    },
    {
     "name": "stdout",
     "output_type": "stream",
     "text": [
      "Summary Statistics for Trip Duration:\n",
      " count    536020.000000\n",
      "mean       -105.386378\n",
      "std        4774.061875\n",
      "min     -259531.316667\n",
      "25%          33.516667\n",
      "50%          52.816667\n",
      "75%          80.033333\n",
      "max      296895.100000\n",
      "Name: trip_duration, dtype: float64\n"
     ]
    }
   ],
   "source": [
    "# Convert date columns to datetime format\n",
    "df2['Trip Start Time'] = pd.to_datetime(df2['Trip Start Time'])\n",
    "df2['Trip End Time'] = pd.to_datetime(df2['Trip End Time'])\n",
    "\n",
    "# Calculate trip duration in minutes\n",
    "df2['trip_duration'] = (df2['Trip End Time'] - df2['Trip Start Time']).dt.total_seconds() / 60\n",
    "\n",
    "# Sample the data for quicker visualization if dataset is large\n",
    "sample_df2 = df2.sample(n=10000, random_state=1)  # Adjust the sample size as needed\n",
    "\n",
    "# Histogram for trip duration\n",
    "plt.figure(figsize=(12, 6))\n",
    "sns.histplot(sample_df2['trip_duration'], kde=True)\n",
    "plt.title('Distribution of Trip Duration')\n",
    "plt.xlabel('Trip Duration (minutes)')\n",
    "plt.ylabel('Frequency')\n",
    "plt.show()\n",
    "\n",
    "# Boxplot for trip duration\n",
    "plt.figure(figsize=(12, 6))\n",
    "sns.boxplot(x=sample_df2['trip_duration'])\n",
    "plt.title('Box Plot of Trip Duration')\n",
    "plt.xlabel('Trip Duration (minutes)')\n",
    "plt.show()\n",
    "\n",
    "# Summary statistics for trip duration\n",
    "trip_duration_summary = df2['trip_duration'].describe()\n",
    "print(\"Summary Statistics for Trip Duration:\\n\", trip_duration_summary)\n",
    "\n"
   ]
  },
  {
   "cell_type": "code",
   "execution_count": 35,
   "metadata": {},
   "outputs": [
    {
     "data": {
      "image/png": "[encoded data removed]",
      "text/plain": [
       "<Figure size 1200x600 with 1 Axes>"
      ]
     },
     "metadata": {},
     "output_type": "display_data"
    },
    {
     "data": {
      "image/png": "[encoded data removed]",
      "text/plain": [
       "<Figure size 1200x600 with 1 Axes>"
      ]
     },
     "metadata": {},
     "output_type": "display_data"
    },
    {
     "name": "stdout",
     "output_type": "stream",
     "text": [
      "Summary Statistics for Latitude:\n",
      " count    1.557740e+06\n",
      "mean     6.536031e+00\n",
      "std      5.998150e-02\n",
      "min      6.409333e+00\n",
      "25%      6.498694e+00\n",
      "50%      6.544247e+00\n",
      "75%      6.593276e+00\n",
      "max      7.702536e+00\n",
      "Name: lat, dtype: float64\n"
     ]
    }
   ],
   "source": [
    "import matplotlib.pyplot as plt\n",
    "import seaborn as sns\n",
    "\n",
    "# Distribution plot for latitude\n",
    "plt.figure(figsize=(12, 6))\n",
    "sns.histplot(df1['lat'], kde=True)\n",
    "plt.title('Distribution of Latitude')\n",
    "plt.xlabel('Latitude')\n",
    "plt.ylabel('Frequency')\n",
    "plt.show()\n",
    "\n",
    "# Box plot for latitude\n",
    "plt.figure(figsize=(12, 6))\n",
    "sns.boxplot(x=df1['lat'])\n",
    "plt.title('Box Plot of Latitude')\n",
    "plt.show()\n",
    "\n",
    "# Summary statistics for latitude\n",
    "lat_summary = df1['lat'].describe()\n",
    "print(\"Summary Statistics for Latitude:\\n\", lat_summary)\n"
   ]
  },
  {
   "cell_type": "code",
   "execution_count": 36,
   "metadata": {},
   "outputs": [
    {
     "data": {
      "image/png": "[encoded data removed]",
      "text/plain": [
       "<Figure size 1200x600 with 1 Axes>"
      ]
     },
     "metadata": {},
     "output_type": "display_data"
    },
    {
     "data": {
      "image/png": "[encoded data removed]",
      "text/plain": [
       "<Figure size 1200x600 with 1 Axes>"
      ]
     },
     "metadata": {},
     "output_type": "display_data"
    },
    {
     "name": "stdout",
     "output_type": "stream",
     "text": [
      "Summary Statistics for Longitude:\n",
      " count    1.557740e+06\n",
      "mean     3.378877e+00\n",
      "std      5.333432e-02\n",
      "min      3.076561e+00\n",
      "25%      3.348810e+00\n",
      "50%      3.363504e+00\n",
      "75%      3.385177e+00\n",
      "max      8.515414e+00\n",
      "Name: lng, dtype: float64\n"
     ]
    }
   ],
   "source": [
    "# Distribution plot for longitude\n",
    "plt.figure(figsize=(12, 6))\n",
    "sns.histplot(df1['lng'], kde=True)\n",
    "plt.title('Distribution of Longitude')\n",
    "plt.xlabel('Longitude')\n",
    "plt.ylabel('Frequency')\n",
    "plt.show()\n",
    "\n",
    "# Box plot for longitude\n",
    "plt.figure(figsize=(12, 6))\n",
    "sns.boxplot(x=df1['lng'])\n",
    "plt.title('Box Plot of Longitude')\n",
    "plt.show()\n",
    "\n",
    "# Summary statistics for longitude\n",
    "lng_summary = df1['lng'].describe()\n",
    "print(\"Summary Statistics for Longitude:\\n\", lng_summary)\n"
   ]
  },
  {
   "cell_type": "code",
   "execution_count": 37,
   "metadata": {},
   "outputs": [],
   "source": [
    "# Calculate trip duration in minutes\n",
    "df2['trip_duration'] = (df2['Trip End Time'] - df2['Trip Start Time']).dt.total_seconds() / 60\n",
    "\n",
    "# Distribution plot for trip duration\n",
    "plt.figure(figsize=(12, 6))\n",
    "sns.histplot(df2['trip_duration'], kde=True)\n",
    "plt.title('Distribution of Trip Duration')\n",
    "plt.xlabel('Trip Duration (minutes)')\n",
    "plt.ylabel('Frequency')\n",
    "plt.show()\n",
    "\n",
    "# Box plot for trip duration\n",
    "plt.figure(figsize=(12, 6))\n",
    "sns.boxplot(x=df2['trip_duration'])\n",
    "plt.title('Box Plot of Trip Duration')\n",
    "plt.show()\n",
    "\n",
    "# Summary statistics for trip duration\n",
    "trip_duration_summary = df2['trip_duration'].describe()\n",
    "print(\"Summary Statistics for Trip Duration:\\n\", trip_duration_summary)\n"
   ]
  },
  {
   "cell_type": "markdown",
   "metadata": {},
   "source": [
    "Categorical Features"
   ]
  },
  {
   "cell_type": "code",
   "execution_count": null,
   "metadata": {},
   "outputs": [],
   "source": [
    "# Frequency count\n",
    "print(df1['driver_action'].value_counts())\n",
    "\n",
    "# Bar plot\n",
    "plt.figure(figsize=(12, 6))\n",
    "sns.countplot(x='driver_action', data=df1)\n",
    "plt.title('Frequency of Driver Actions')\n",
    "plt.xlabel('Driver Action')\n",
    "plt.ylabel('Count')\n",
    "plt.show()\n"
   ]
  },
  {
   "cell_type": "code",
   "execution_count": null,
   "metadata": {},
   "outputs": [],
   "source": [
    "# Frequency count for driver_action\n",
    "driver_action_counts = df1['driver_action'].value_counts()\n",
    "print(\"Frequency of Driver Actions:\\n\", driver_action_counts)\n",
    "\n",
    "# Bar plot for driver_action\n",
    "plt.figure(figsize=(12, 6))\n",
    "sns.countplot(x='driver_action', data=df1)\n",
    "plt.title('Frequency of Driver Actions')\n",
    "plt.xlabel('Driver Action')\n",
    "plt.ylabel('Count')\n",
    "plt.show()\n"
   ]
  },
  {
   "cell_type": "markdown",
   "metadata": {},
   "source": [
    " Parsed Geospatial Features"
   ]
  },
  {
   "cell_type": "code",
   "execution_count": null,
   "metadata": {},
   "outputs": [],
   "source": [
    "# Distribution plot for origin latitude\n",
    "plt.figure(figsize=(12, 6))\n",
    "sns.histplot(df2['origin_lat'], kde=True)\n",
    "plt.title('Distribution of Origin Latitude')\n",
    "plt.xlabel('Origin Latitude')\n",
    "plt.ylabel('Frequency')\n",
    "plt.show()\n",
    "\n",
    "# Summary statistics for origin latitude\n",
    "origin_lat_summary = df2['origin_lat'].describe()\n",
    "print(\"Summary Statistics for Origin Latitude:\\n\", origin_lat_summary)\n",
    "\n"
   ]
  },
  {
   "cell_type": "code",
   "execution_count": null,
   "metadata": {},
   "outputs": [],
   "source": [
    "# Distribution plot for origin longitude\n",
    "plt.figure(figsize=(12, 6))\n",
    "sns.histplot(df2['origin_lng'], kde=True)\n",
    "plt.title('Distribution of Origin Longitude')\n",
    "plt.xlabel('Origin Longitude')\n",
    "plt.ylabel('Frequency')\n",
    "plt.show()\n",
    "\n",
    "# Summary statistics for origin longitude\n",
    "origin_lng_summary = df2['origin_lng'].describe()\n",
    "print(\"Summary Statistics for Origin Longitude:\\n\", origin_lng_summary)\n"
   ]
  },
  {
   "cell_type": "code",
   "execution_count": null,
   "metadata": {},
   "outputs": [],
   "source": [
    "# Distribution plot for destination latitude\n",
    "plt.figure(figsize=(12, 6))\n",
    "sns.histplot(df2['dest_lat'], kde=True)\n",
    "plt.title('Distribution of Destination Latitude')\n",
    "plt.xlabel('Destination Latitude')\n",
    "plt.ylabel('Frequency')\n",
    "plt.show()\n",
    "\n",
    "# Summary statistics for destination latitude\n",
    "dest_lat_summary = df2['dest_lat'].describe()\n",
    "print(\"Summary Statistics for Destination Latitude:\\n\", dest_lat_summary)\n"
   ]
  },
  {
   "cell_type": "code",
   "execution_count": null,
   "metadata": {},
   "outputs": [],
   "source": [
    "# Distribution plot for destination longitude\n",
    "plt.figure(figsize=(12, 6))\n",
    "sns.histplot(df2['dest_lng'], kde=True)\n",
    "plt.title('Distribution of Destination Longitude')\n",
    "plt.xlabel('Destination Longitude')\n",
    "plt.ylabel('Frequency')\n",
    "plt.show()\n",
    "\n",
    "# Summary statistics for destination longitude\n",
    "dest_lng_summary = df2['dest_lng'].describe()\n",
    "print(\"Summary Statistics for Destination Longitude:\\n\", dest_lng_summary)\n"
   ]
  },
  {
   "cell_type": "markdown",
   "metadata": {},
   "source": [
    "Bivariate Analysis"
   ]
  },
  {
   "cell_type": "code",
   "execution_count": null,
   "metadata": {},
   "outputs": [],
   "source": [
    "import seaborn as sns\n",
    "import matplotlib.pyplot as plt\n",
    "\n",
    "# Correlation matrix\n",
    "corr_matrix_df1 = df1[['lat', 'lng']].corr()\n",
    "print(\"Correlation Matrix:\\n\", corr_matrix_df1)\n",
    "\n",
    "# Heatmap\n",
    "plt.figure(figsize=(10, 8))\n",
    "sns.heatmap(corr_matrix_df1, annot=True, cmap='coolwarm', vmin=-1, vmax=1)\n",
    "plt.title('Correlation Heatmap for df1')\n",
    "plt.show()\n"
   ]
  },
  {
   "cell_type": "code",
   "execution_count": null,
   "metadata": {},
   "outputs": [],
   "source": [
    "# Scatter plot for lat and lng\n",
    "plt.figure(figsize=(12, 6))\n",
    "sns.scatterplot(x='lat', y='lng', data=df1)\n",
    "plt.title('Scatter Plot of Latitude vs. Longitude')\n",
    "plt.xlabel('Latitude')\n",
    "plt.ylabel('Longitude')\n",
    "plt.show()\n"
   ]
  },
  {
   "cell_type": "code",
   "execution_count": null,
   "metadata": {},
   "outputs": [],
   "source": [
    "# Crosstab for driver_action and driver_id\n",
    "crosstab_driver_action = pd.crosstab(df1['driver_action'], df1['driver_id'])\n",
    "print(\"Crosstab of Driver Action and Driver ID:\\n\", crosstab_driver_action)\n",
    "\n",
    "# Bar plot for driver_action counts\n",
    "plt.figure(figsize=(12, 6))\n",
    "sns.countplot(x='driver_action', data=df1)\n",
    "plt.title('Count of Driver Actions')\n",
    "plt.xlabel('Driver Action')\n",
    "plt.ylabel('Count')\n",
    "plt.show()\n"
   ]
  },
  {
   "cell_type": "markdown",
   "metadata": {},
   "source": [
    "For df2"
   ]
  },
  {
   "cell_type": "code",
   "execution_count": null,
   "metadata": {},
   "outputs": [],
   "source": [
    "# Correlation matrix\n",
    "corr_matrix_df2 = df2[['origin_lat', 'origin_lng', 'dest_lat', 'dest_lng', 'trip_duration']].corr()\n",
    "print(\"Correlation Matrix:\\n\", corr_matrix_df2)\n",
    "\n",
    "# Heatmap\n",
    "plt.figure(figsize=(10, 8))\n",
    "sns.heatmap(corr_matrix_df2, annot=True, cmap='coolwarm', vmin=-1, vmax=1)\n",
    "plt.title('Correlation Heatmap for df2')\n",
    "plt.show()\n"
   ]
  },
  {
   "cell_type": "code",
   "execution_count": null,
   "metadata": {},
   "outputs": [],
   "source": [
    "# Scatter plot for origin_lat and trip_duration\n",
    "plt.figure(figsize=(12, 6))\n",
    "sns.scatterplot(x='origin_lat', y='trip_duration', data=df2)\n",
    "plt.title('Scatter Plot of Origin Latitude vs. Trip Duration')\n",
    "plt.xlabel('Origin Latitude')\n",
    "plt.ylabel('Trip Duration (minutes)')\n",
    "plt.show()\n",
    "\n",
    "# Scatter plot for origin_lng and trip_duration\n",
    "plt.figure(figsize=(12, 6))\n",
    "sns.scatterplot(x='origin_lng', y='trip_duration', data=df2)\n",
    "plt.title('Scatter Plot of Origin Longitude vs. Trip Duration')\n",
    "plt.xlabel('Origin Longitude')\n",
    "plt.ylabel('Trip Duration (minutes)')\n",
    "plt.show()\n"
   ]
  },
  {
   "cell_type": "code",
   "execution_count": null,
   "metadata": {},
   "outputs": [],
   "source": [
    "# Example crosstab if df2 had a categorical feature\n",
    "crosstab_2 = pd.crosstab(df2['some_categorical_feature'], df2['another_categorical_feature'])\n",
    "print(\"Crosstab Example:\\n\", crosstab_2)\n",
    "\n",
    "# Example bar plot for a hypothetical categorical feature\n",
    "plt.figure(figsize=(12, 6))\n",
    "sns.countplot(x='some_categorical_feature', data=df2)\n",
    "plt.title('Count of Some Categorical Feature')\n",
    "plt.xlabel('Some Categorical Feature')\n",
    "plt.ylabel('Count')\n",
    "plt.show()\n"
   ]
  },
  {
   "cell_type": "markdown",
   "metadata": {},
   "source": [
    "Geospatial Analysis"
   ]
  },
  {
   "cell_type": "code",
   "execution_count": null,
   "metadata": {},
   "outputs": [],
   "source": [
    "import matplotlib.pyplot as plt\n",
    "import seaborn as sns\n",
    "\n",
    "# Scatter plot for driver locations\n",
    "plt.figure(figsize=(12, 6))\n",
    "sns.scatterplot(x='lng', y='lat', data=df1, hue='driver_action', palette='viridis')\n",
    "plt.title('Driver Locations based on Latitude and Longitude')\n",
    "plt.xlabel('Longitude')\n",
    "plt.ylabel('Latitude')\n",
    "plt.legend(title='Driver Action')\n",
    "plt.show()\n"
   ]
  },
  {
   "cell_type": "code",
   "execution_count": null,
   "metadata": {},
   "outputs": [],
   "source": [
    "# Extract latitude and longitude for origins and destinations\n",
    "df2['origin_lat'] = df2['Trip Origin'].apply(lambda x: float(x.split(',')[0]))\n",
    "df2['origin_lng'] = df2['Trip Origin'].apply(lambda x: float(x.split(',')[1]))\n",
    "df2['dest_lat'] = df2['Trip Destination'].apply(lambda x: float(x.split(',')[0]))\n",
    "df2['dest_lng'] = df2['Trip Destination'].apply(lambda x: float(x.split(',')[1]))\n",
    "\n",
    "# Scatter plot for trip origins and destinations\n",
    "plt.figure(figsize=(12, 6))\n",
    "sns.scatterplot(x='origin_lng', y='origin_lat', data=df2, label='Origin', color='blue', alpha=0.6)\n",
    "sns.scatterplot(x='dest_lng', y='dest_lat', data=df2, label='Destination', color='red', alpha=0.6)\n",
    "plt.title('Trip Origins and Destinations')\n",
    "plt.xlabel('Longitude')\n",
    "plt.ylabel('Latitude')\n",
    "plt.legend()\n",
    "plt.show()\n"
   ]
  },
  {
   "cell_type": "code",
   "execution_count": null,
   "metadata": {},
   "outputs": [],
   "source": [
    "import folium\n",
    "from folium.plugins import AntPath\n",
    "\n",
    "# Create a base map\n",
    "map_center = [df2['origin_lat'].mean(), df2['origin_lng'].mean()]\n",
    "m = folium.Map(location=map_center, zoom_start=12)\n",
    "\n",
    "# Plot trip routes\n",
    "for i, row in df2.iterrows():\n",
    "    folium.Marker([row['origin_lat'], row['origin_lng']], popup='Origin', icon=folium.Icon(color='blue')).add_to(m)\n",
    "    folium.Marker([row['dest_lat'], row['dest_lng']], popup='Destination', icon=folium.Icon(color='red')).add_to(m)\n",
    "    folium.PolyLine([[row['origin_lat'], row['origin_lng']], [row['dest_lat'], row['dest_lng']]], color='green').add_to(m)\n",
    "\n",
    "# Save map to HTML file\n",
    "m.save('trip_routes.html')\n",
    "m\n"
   ]
  }
 ],
 "metadata": {
  "kernelspec": {
   "display_name": "venv",
   "language": "python",
   "name": "python3"
  },
  "language_info": {
   "codemirror_mode": {
    "name": "ipython",
    "version": 3
   },
   "file_extension": ".py",
   "mimetype": "text/x-python",
   "name": "python",
   "nbconvert_exporter": "python",
   "pygments_lexer": "ipython3",
   "version": "3.10.12"
  }
 },
 "nbformat": 4,
 "nbformat_minor": 2
}
